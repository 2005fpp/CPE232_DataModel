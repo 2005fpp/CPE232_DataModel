{
  "cells": [
    {
      "cell_type": "markdown",
      "metadata": {},
      "source": [
        "# HW 2: Types of Data\n",
        "\n",
        "#### CPE232 Data Models\n",
        "\n",
        "##### Owner :  66070501043 - Phoorin Chinphuad\n",
        "---"
      ]
    },
    {
      "cell_type": "markdown",
      "metadata": {
        "id": "_C6sD6-IERJG"
      },
      "source": [
        "# Import Dependency"
      ]
    },
    {
      "cell_type": "code",
      "execution_count": 100,
      "metadata": {
        "id": "rJMe-tyMEQ4p"
      },
      "outputs": [],
      "source": [
        "import pandas as pd\n",
        "import matplotlib.pyplot as plt"
      ]
    },
    {
      "cell_type": "markdown",
      "metadata": {
        "id": "M7gVXcwzF8gv"
      },
      "source": [
        "# Part 1 : Basic Python"
      ]
    },
    {
      "cell_type": "markdown",
      "metadata": {
        "id": "ZizA7iWUGEJ6"
      },
      "source": [
        "## Task 1"
      ]
    },
    {
      "cell_type": "markdown",
      "metadata": {
        "id": "gWtiOdZ3GHHx"
      },
      "source": [
        "เขียนโปรแกรมสำหรับใส่ค่า Input แต่ละ type ที่ต่างกัน ทำการแสดง type ของแต่ละตัว และทดลองแปลงค่า Float ให้กลายเป็น int พร้อมแสดง Before After"
      ]
    },
    {
      "cell_type": "code",
      "execution_count": 102,
      "metadata": {
        "id": "kfNoLb-FF-m5"
      },
      "outputs": [],
      "source": [
        "# Input values from the user\n",
        "string_value = input(\"Enter a string: \")\n",
        "integer_value = int(input(\"Enter an integer: \"))\n",
        "float_value = float(input(\"Enter a float: \"))"
      ]
    },
    {
      "cell_type": "code",
      "execution_count": 108,
      "metadata": {
        "id": "NEb5FRMzGYlP"
      },
      "outputs": [
        {
          "name": "stdout",
          "output_type": "stream",
          "text": [
            "string_value type : <class 'str'>\n",
            "integer_value type : <class 'int'>\n",
            "float_value type : <class 'float'>\n"
          ]
        }
      ],
      "source": [
        "# Display the data types\n",
        "print(f\"string_value type : {type(string_value)}\")\n",
        "print(f\"integer_value type : {type(integer_value)}\")\n",
        "print(f\"float_value type : {type(float_value)}\")"
      ]
    },
    {
      "cell_type": "code",
      "execution_count": 109,
      "metadata": {
        "id": "r1YAS93cGn1W"
      },
      "outputs": [
        {
          "name": "stdout",
          "output_type": "stream",
          "text": [
            "Before converting : 37 , <class 'int'>\n",
            "After converting : 37.0, <class 'float'>\n"
          ]
        }
      ],
      "source": [
        "# Convert integer to float and vice versa\n",
        "print(f\"Before converting : {integer_value} , {type(integer_value)}\")\n",
        "integer_To_float_value = float(integer_value)\n",
        "print(f\"After converting : {integer_To_float_value}, {type(integer_To_float_value)}\")"
      ]
    },
    {
      "cell_type": "code",
      "execution_count": 110,
      "metadata": {
        "id": "vkQwFOH0GBHq"
      },
      "outputs": [
        {
          "name": "stdout",
          "output_type": "stream",
          "text": [
            "Before converting : 3.14 , <class 'float'>\n",
            "After converting : 3, <class 'int'>\n"
          ]
        }
      ],
      "source": [
        "# Show before and after convert float to int\n",
        "print(f\"Before converting : {float_value} , {type(float_value)}\")\n",
        "float_To_integer_value = int(float_value)\n",
        "print(f\"After converting : {float_To_integer_value}, {type(float_To_integer_value)}\")"
      ]
    },
    {
      "cell_type": "markdown",
      "metadata": {
        "id": "V6rZQ_mKGxV6"
      },
      "source": [
        "## Task 2"
      ]
    },
    {
      "cell_type": "markdown",
      "metadata": {
        "id": "1ytsZGx5Gzyk"
      },
      "source": [
        "มีคะแนนของนักเรียนแต่ละคนให้ในรูปแบบ Dictionary จงหาคะแนนเฉลี่ยของนักเรียนแต่ละคนในทุกวิชาและหาคนที่ได้แคะแนนเฉลี่ยสูงสุด"
      ]
    },
    {
      "cell_type": "code",
      "execution_count": 111,
      "metadata": {
        "id": "kze1CuNGHIXB"
      },
      "outputs": [],
      "source": [
        "students_grades = {\n",
        "    \"John\": [85, 90, 78],\n",
        "    \"Alice\": [88, 92, 80],\n",
        "    \"Bob\": [75, 85, 72],\n",
        "    \"Diana\": [90, 95, 94],\n",
        "    \"Charlie\": [70, 65, 80]\n",
        "}"
      ]
    },
    {
      "cell_type": "code",
      "execution_count": 112,
      "metadata": {
        "id": "wGO6J-owHLeG"
      },
      "outputs": [
        {
          "name": "stdout",
          "output_type": "stream",
          "text": [
            "John average grade : 84.33333333333333\n",
            "Alice average grade : 86.66666666666667\n",
            "Bob average grade : 77.33333333333333\n",
            "Diana average grade : 93.0\n",
            "Charlie average grade : 71.66666666666667\n"
          ]
        }
      ],
      "source": [
        "# Calculate and print the average grade for each student\n",
        "for name, grades in students_grades.items():\n",
        "    avg_grade = sum(grades) / len(grades)\n",
        "    print(f\"{name} average grade : {avg_grade}\")"
      ]
    },
    {
      "cell_type": "code",
      "execution_count": 113,
      "metadata": {
        "id": "erBdHagTHMZ1"
      },
      "outputs": [
        {
          "name": "stdout",
          "output_type": "stream",
          "text": [
            "The student with the highest average grade is Diana with an average of 93.0\n"
          ]
        }
      ],
      "source": [
        "# Find the student with the highest average grade\n",
        "avg_grade = {name : sum(grades)/len(grades) for name, grades in students_grades.items()}\n",
        "\n",
        "top_student_name = max(avg_grade, key=avg_grade.get)\n",
        "top_student_avg_grade = avg_grade[top_student_name]\n",
        "\n",
        "print(f\"The student with the highest average grade is {top_student_name} with an average of {top_student_avg_grade}\")"
      ]
    },
    {
      "cell_type": "markdown",
      "metadata": {
        "id": "vedd5LajDZpc"
      },
      "source": [
        "# Part 2 : Working with CSV!"
      ]
    },
    {
      "cell_type": "markdown",
      "metadata": {
        "id": "-SunXx4IEcNa"
      },
      "source": [
        "จงสร้างคอลัมน์ใหม่ให้กับ CSV ไฟล์นี้ชื่อว่า Bonus และให้คำนวณ Bonus ให้กับพนักงานที่อยู่แผนก Sales เป็นจำนวน 10% จาก MonthlyRate ของคนๆนั้น"
      ]
    },
    {
      "cell_type": "code",
      "execution_count": 117,
      "metadata": {
        "id": "5K7zeMGTBMBq"
      },
      "outputs": [],
      "source": [
        "# Load the CSV file\n",
        "file_path = './sources/employee_data.csv'\n",
        "df = pd.read_csv(file_path)"
      ]
    },
    {
      "cell_type": "code",
      "execution_count": 118,
      "metadata": {
        "colab": {
          "base_uri": "https://localhost:8080/",
          "height": 206
        },
        "id": "SayuQhbgFEkZ",
        "outputId": "7810d610-bf4c-49fe-8723-ba6f9adb323d"
      },
      "outputs": [
        {
          "data": {
            "text/html": [
              "<div>\n",
              "<style scoped>\n",
              "    .dataframe tbody tr th:only-of-type {\n",
              "        vertical-align: middle;\n",
              "    }\n",
              "\n",
              "    .dataframe tbody tr th {\n",
              "        vertical-align: top;\n",
              "    }\n",
              "\n",
              "    .dataframe thead th {\n",
              "        text-align: right;\n",
              "    }\n",
              "</style>\n",
              "<table border=\"1\" class=\"dataframe\">\n",
              "  <thead>\n",
              "    <tr style=\"text-align: right;\">\n",
              "      <th></th>\n",
              "      <th>Age</th>\n",
              "      <th>DailyRate</th>\n",
              "      <th>Department</th>\n",
              "      <th>EducationField</th>\n",
              "      <th>Gender</th>\n",
              "      <th>MaritalStatus</th>\n",
              "      <th>MonthlyRate</th>\n",
              "      <th>OverTime</th>\n",
              "    </tr>\n",
              "  </thead>\n",
              "  <tbody>\n",
              "    <tr>\n",
              "      <th>0</th>\n",
              "      <td>41</td>\n",
              "      <td>1102</td>\n",
              "      <td>Sales</td>\n",
              "      <td>Life Sciences</td>\n",
              "      <td>Female</td>\n",
              "      <td>Single</td>\n",
              "      <td>19479</td>\n",
              "      <td>Yes</td>\n",
              "    </tr>\n",
              "    <tr>\n",
              "      <th>1</th>\n",
              "      <td>49</td>\n",
              "      <td>279</td>\n",
              "      <td>Research &amp; Development</td>\n",
              "      <td>Life Sciences</td>\n",
              "      <td>Male</td>\n",
              "      <td>Married</td>\n",
              "      <td>24907</td>\n",
              "      <td>No</td>\n",
              "    </tr>\n",
              "    <tr>\n",
              "      <th>2</th>\n",
              "      <td>37</td>\n",
              "      <td>1373</td>\n",
              "      <td>Research &amp; Development</td>\n",
              "      <td>Other</td>\n",
              "      <td>Male</td>\n",
              "      <td>Single</td>\n",
              "      <td>2396</td>\n",
              "      <td>Yes</td>\n",
              "    </tr>\n",
              "    <tr>\n",
              "      <th>3</th>\n",
              "      <td>33</td>\n",
              "      <td>1392</td>\n",
              "      <td>Research &amp; Development</td>\n",
              "      <td>Life Sciences</td>\n",
              "      <td>Female</td>\n",
              "      <td>Married</td>\n",
              "      <td>23159</td>\n",
              "      <td>Yes</td>\n",
              "    </tr>\n",
              "    <tr>\n",
              "      <th>4</th>\n",
              "      <td>27</td>\n",
              "      <td>591</td>\n",
              "      <td>Research &amp; Development</td>\n",
              "      <td>Medical</td>\n",
              "      <td>Male</td>\n",
              "      <td>Married</td>\n",
              "      <td>16632</td>\n",
              "      <td>No</td>\n",
              "    </tr>\n",
              "  </tbody>\n",
              "</table>\n",
              "</div>"
            ],
            "text/plain": [
              "   Age  DailyRate              Department EducationField  Gender  \\\n",
              "0   41       1102                   Sales  Life Sciences  Female   \n",
              "1   49        279  Research & Development  Life Sciences    Male   \n",
              "2   37       1373  Research & Development          Other    Male   \n",
              "3   33       1392  Research & Development  Life Sciences  Female   \n",
              "4   27        591  Research & Development        Medical    Male   \n",
              "\n",
              "  MaritalStatus  MonthlyRate OverTime  \n",
              "0        Single        19479      Yes  \n",
              "1       Married        24907       No  \n",
              "2        Single         2396      Yes  \n",
              "3       Married        23159      Yes  \n",
              "4       Married        16632       No  "
            ]
          },
          "execution_count": 118,
          "metadata": {},
          "output_type": "execute_result"
        }
      ],
      "source": [
        "df.head()"
      ]
    },
    {
      "cell_type": "code",
      "execution_count": 119,
      "metadata": {
        "id": "mqOYqV_QEVWY"
      },
      "outputs": [],
      "source": [
        "# Add new column call 'Bonus'\n",
        "df['Bonus'] = 0.0"
      ]
    },
    {
      "cell_type": "code",
      "execution_count": 120,
      "metadata": {
        "id": "RlswWTzYE3NM"
      },
      "outputs": [],
      "source": [
        "# Calculate 10% of bonus into the 'Bonus' Column .\n",
        "df[\"Bonus\"] = df[\"MonthlyRate\"] * 0.1 * (df[\"Department\"] == \"Sales\")"
      ]
    },
    {
      "cell_type": "code",
      "execution_count": 121,
      "metadata": {
        "id": "AIVAF977Fdg0"
      },
      "outputs": [
        {
          "data": {
            "text/html": [
              "<div>\n",
              "<style scoped>\n",
              "    .dataframe tbody tr th:only-of-type {\n",
              "        vertical-align: middle;\n",
              "    }\n",
              "\n",
              "    .dataframe tbody tr th {\n",
              "        vertical-align: top;\n",
              "    }\n",
              "\n",
              "    .dataframe thead th {\n",
              "        text-align: right;\n",
              "    }\n",
              "</style>\n",
              "<table border=\"1\" class=\"dataframe\">\n",
              "  <thead>\n",
              "    <tr style=\"text-align: right;\">\n",
              "      <th></th>\n",
              "      <th>Age</th>\n",
              "      <th>DailyRate</th>\n",
              "      <th>Department</th>\n",
              "      <th>EducationField</th>\n",
              "      <th>Gender</th>\n",
              "      <th>MaritalStatus</th>\n",
              "      <th>MonthlyRate</th>\n",
              "      <th>OverTime</th>\n",
              "      <th>Bonus</th>\n",
              "    </tr>\n",
              "  </thead>\n",
              "  <tbody>\n",
              "    <tr>\n",
              "      <th>0</th>\n",
              "      <td>41</td>\n",
              "      <td>1102</td>\n",
              "      <td>Sales</td>\n",
              "      <td>Life Sciences</td>\n",
              "      <td>Female</td>\n",
              "      <td>Single</td>\n",
              "      <td>19479</td>\n",
              "      <td>Yes</td>\n",
              "      <td>1947.9</td>\n",
              "    </tr>\n",
              "    <tr>\n",
              "      <th>1</th>\n",
              "      <td>49</td>\n",
              "      <td>279</td>\n",
              "      <td>Research &amp; Development</td>\n",
              "      <td>Life Sciences</td>\n",
              "      <td>Male</td>\n",
              "      <td>Married</td>\n",
              "      <td>24907</td>\n",
              "      <td>No</td>\n",
              "      <td>0.0</td>\n",
              "    </tr>\n",
              "    <tr>\n",
              "      <th>2</th>\n",
              "      <td>37</td>\n",
              "      <td>1373</td>\n",
              "      <td>Research &amp; Development</td>\n",
              "      <td>Other</td>\n",
              "      <td>Male</td>\n",
              "      <td>Single</td>\n",
              "      <td>2396</td>\n",
              "      <td>Yes</td>\n",
              "      <td>0.0</td>\n",
              "    </tr>\n",
              "    <tr>\n",
              "      <th>3</th>\n",
              "      <td>33</td>\n",
              "      <td>1392</td>\n",
              "      <td>Research &amp; Development</td>\n",
              "      <td>Life Sciences</td>\n",
              "      <td>Female</td>\n",
              "      <td>Married</td>\n",
              "      <td>23159</td>\n",
              "      <td>Yes</td>\n",
              "      <td>0.0</td>\n",
              "    </tr>\n",
              "    <tr>\n",
              "      <th>4</th>\n",
              "      <td>27</td>\n",
              "      <td>591</td>\n",
              "      <td>Research &amp; Development</td>\n",
              "      <td>Medical</td>\n",
              "      <td>Male</td>\n",
              "      <td>Married</td>\n",
              "      <td>16632</td>\n",
              "      <td>No</td>\n",
              "      <td>0.0</td>\n",
              "    </tr>\n",
              "    <tr>\n",
              "      <th>...</th>\n",
              "      <td>...</td>\n",
              "      <td>...</td>\n",
              "      <td>...</td>\n",
              "      <td>...</td>\n",
              "      <td>...</td>\n",
              "      <td>...</td>\n",
              "      <td>...</td>\n",
              "      <td>...</td>\n",
              "      <td>...</td>\n",
              "    </tr>\n",
              "    <tr>\n",
              "      <th>1465</th>\n",
              "      <td>36</td>\n",
              "      <td>884</td>\n",
              "      <td>Research &amp; Development</td>\n",
              "      <td>Medical</td>\n",
              "      <td>Male</td>\n",
              "      <td>Married</td>\n",
              "      <td>12290</td>\n",
              "      <td>No</td>\n",
              "      <td>0.0</td>\n",
              "    </tr>\n",
              "    <tr>\n",
              "      <th>1466</th>\n",
              "      <td>39</td>\n",
              "      <td>613</td>\n",
              "      <td>Research &amp; Development</td>\n",
              "      <td>Medical</td>\n",
              "      <td>Male</td>\n",
              "      <td>Married</td>\n",
              "      <td>21457</td>\n",
              "      <td>No</td>\n",
              "      <td>0.0</td>\n",
              "    </tr>\n",
              "    <tr>\n",
              "      <th>1467</th>\n",
              "      <td>27</td>\n",
              "      <td>155</td>\n",
              "      <td>Research &amp; Development</td>\n",
              "      <td>Life Sciences</td>\n",
              "      <td>Male</td>\n",
              "      <td>Married</td>\n",
              "      <td>5174</td>\n",
              "      <td>Yes</td>\n",
              "      <td>0.0</td>\n",
              "    </tr>\n",
              "    <tr>\n",
              "      <th>1468</th>\n",
              "      <td>49</td>\n",
              "      <td>1023</td>\n",
              "      <td>Sales</td>\n",
              "      <td>Medical</td>\n",
              "      <td>Male</td>\n",
              "      <td>Married</td>\n",
              "      <td>13243</td>\n",
              "      <td>No</td>\n",
              "      <td>1324.3</td>\n",
              "    </tr>\n",
              "    <tr>\n",
              "      <th>1469</th>\n",
              "      <td>34</td>\n",
              "      <td>628</td>\n",
              "      <td>Research &amp; Development</td>\n",
              "      <td>Medical</td>\n",
              "      <td>Male</td>\n",
              "      <td>Married</td>\n",
              "      <td>10228</td>\n",
              "      <td>No</td>\n",
              "      <td>0.0</td>\n",
              "    </tr>\n",
              "  </tbody>\n",
              "</table>\n",
              "<p>1470 rows × 9 columns</p>\n",
              "</div>"
            ],
            "text/plain": [
              "      Age  DailyRate              Department EducationField  Gender  \\\n",
              "0      41       1102                   Sales  Life Sciences  Female   \n",
              "1      49        279  Research & Development  Life Sciences    Male   \n",
              "2      37       1373  Research & Development          Other    Male   \n",
              "3      33       1392  Research & Development  Life Sciences  Female   \n",
              "4      27        591  Research & Development        Medical    Male   \n",
              "...   ...        ...                     ...            ...     ...   \n",
              "1465   36        884  Research & Development        Medical    Male   \n",
              "1466   39        613  Research & Development        Medical    Male   \n",
              "1467   27        155  Research & Development  Life Sciences    Male   \n",
              "1468   49       1023                   Sales        Medical    Male   \n",
              "1469   34        628  Research & Development        Medical    Male   \n",
              "\n",
              "     MaritalStatus  MonthlyRate OverTime   Bonus  \n",
              "0           Single        19479      Yes  1947.9  \n",
              "1          Married        24907       No     0.0  \n",
              "2           Single         2396      Yes     0.0  \n",
              "3          Married        23159      Yes     0.0  \n",
              "4          Married        16632       No     0.0  \n",
              "...            ...          ...      ...     ...  \n",
              "1465       Married        12290       No     0.0  \n",
              "1466       Married        21457       No     0.0  \n",
              "1467       Married         5174      Yes     0.0  \n",
              "1468       Married        13243       No  1324.3  \n",
              "1469       Married        10228       No     0.0  \n",
              "\n",
              "[1470 rows x 9 columns]"
            ]
          },
          "execution_count": 121,
          "metadata": {},
          "output_type": "execute_result"
        }
      ],
      "source": [
        "# Print and show result\n",
        "df"
      ]
    },
    {
      "cell_type": "code",
      "execution_count": 122,
      "metadata": {
        "id": "-kdUJtE1FgEL"
      },
      "outputs": [],
      "source": [
        "# Save the updated DataFrame back to a CSV file\n",
        "df.to_csv('./sources/employee_data.csv', index=False)"
      ]
    },
    {
      "cell_type": "markdown",
      "metadata": {
        "id": "siUU4Z19FmTr"
      },
      "source": [
        "# Part 3 : Working with Matplotlib"
      ]
    },
    {
      "cell_type": "markdown",
      "metadata": {
        "id": "5GLA4nYnIURl"
      },
      "source": [
        "จงพล็อตกราฟแสดงค่าเฉลี่ยเงินเดือนของพนักงานในแต่ละ Department เพื่อเปรียบเทียบเงินเดือนเฉลี่ยของแต่ละ Department"
      ]
    },
    {
      "cell_type": "code",
      "execution_count": 123,
      "metadata": {
        "id": "P5-qoxEyIpdN"
      },
      "outputs": [],
      "source": [
        "# Load CSV and create DataFrame\n",
        "data = pd.read_csv('./sources/employee_data.csv')\n",
        "df = pd.DataFrame(data)"
      ]
    },
    {
      "cell_type": "code",
      "execution_count": 124,
      "metadata": {
        "id": "HtYFO0xPIt1a"
      },
      "outputs": [
        {
          "data": {
            "text/plain": [
              "Department\n",
              "Human Resources           13492.984127\n",
              "Research & Development    14284.865765\n",
              "Sales                     14489.793722\n",
              "Name: MonthlyRate, dtype: float64"
            ]
          },
          "execution_count": 124,
          "metadata": {},
          "output_type": "execute_result"
        }
      ],
      "source": [
        "# Calculate average MonthlyRate by Department\n",
        "avg_monthly_rate_by_department = df.groupby('Department')['MonthlyRate'].mean()\n",
        "\n",
        "avg_monthly_rate_by_department"
      ]
    },
    {
      "cell_type": "code",
      "execution_count": 125,
      "metadata": {},
      "outputs": [
        {
          "data": {
            "text/plain": [
              "array(['Sales', 'Research & Development', 'Human Resources'], dtype=object)"
            ]
          },
          "execution_count": 125,
          "metadata": {},
          "output_type": "execute_result"
        }
      ],
      "source": [
        "df['Department'].unique()"
      ]
    },
    {
      "cell_type": "code",
      "execution_count": 127,
      "metadata": {
        "id": "d9RgD_DmIwCp"
      },
      "outputs": [
        {
          "data": {
            "image/png": "[encoded data removed]",
            "text/plain": [
              "<Figure size 640x480 with 1 Axes>"
            ]
          },
          "metadata": {},
          "output_type": "display_data"
        }
      ],
      "source": [
        "# Plotting the bar chart\n",
        "avg_monthly_rate_by_department.plot(kind='bar', color=['#493D9E', '#8E1616', '#123524'])\n",
        "\n",
        "plt.title('Average Monthly Rate by Department')\n",
        "plt.xlabel('Department')\n",
        "plt.ylabel('Average Monthly Rate')\n",
        "plt.xticks(rotation=0)\n",
        "plt.grid(axis='y')\n",
        "\n",
        "for index, value in enumerate(avg_monthly_rate_by_department):\n",
        "    plt.text(index, value+100, str(round(float(value),2)), ha='center')\n",
        "\n",
        "plt.show()"
      ]
    },
    {
      "cell_type": "markdown",
      "metadata": {
        "id": "Ha13UaGfI2E1"
      },
      "source": [
        "# Challenge!!! : Working with SATAN (Optional)"
      ]
    },
    {
      "cell_type": "markdown",
      "metadata": {
        "id": "3dR3-jHjJKPy"
      },
      "source": [
        "ดีมากเหล่าเด็กๆที่ยังไม่ยอมแพ้ให้กับวิชานี้!\n",
        "\n",
        "<div>\n",
        "<img src=\"https://media2.giphy.com/media/ErZ8hv5eO92JW/200.gif?cid=6c09b952k9ykzx0na1tsrm5sa0gb4m4z39w5z6z65u05oohs&ep=v1_gifs_search&rid=200.gif&ct=g\" width=\"500\"/>\n",
        "</div>\n"
      ]
    },
    {
      "cell_type": "markdown",
      "metadata": {
        "id": "Dk_GINWZJ_M0"
      },
      "source": [
        "เรื่องมันมีอยู่ว่า จากไฟล์ CSV ที่พี่ไทให้น้องๆไป...มันไม่ใช่ไฟล์ธรรมดา แต่มันเป็นไฟล์ข้อมูลในองกรณ์หนึ่งที่ Alya-San นั้นได้ทำงานอยู่\n",
        "\n",
        "<div>\n",
        "<img src=\"https://preview.redd.it/all-hail-alya-v0-8tiwrh5d3b3e1.jpeg?auto=webp&s=f22e38e7544697d75f2264f005504e5eb81a9721\" width=\"500\"/>\n",
        "</div>"
      ]
    },
    {
      "cell_type": "markdown",
      "metadata": {
        "id": "r8tMZ0nsLvKm"
      },
      "source": [
        "ซึ่งคุณอาเรียรู้สึกว่ามีสิ่งไม่ชอบมาพากลภายในบริษัท ว่ารายได้ของพนักงานชายและหญิงมีความไม่เท่าเทียมกัน\n",
        "\n",
        "รวมถึงรัฐอาจมีการแทรกแทรงเพื่อให้ประชากรภายในประเทศเพิ่มสูงขึ้น รัฐจึงแอบเพิ่มเงินเดือนให้กับผู้ที่แต่งงานอยู่รึเปล่าเมื่อเทียบกับคนโสด\n",
        "\n",
        "และคนที่จบจากสาขาที่แตกต่างจากกัน พวกเขาได้เงินเดือนมากกว่ากันมากน้อยแค่ไหน\n",
        "\n",
        "น้องๆช่วยคุณอาเรียพิสูจน์หน่อยว่าคุณอาเรียไปเองหรือมันเป็นเรื่องจริง!\n",
        "\n",
        "เพราะสำหรับคุณอาเรียแล้ว ทุกคนล้วน เ ท่ า เ ที ย ม กั น"
      ]
    },
    {
      "cell_type": "markdown",
      "metadata": {},
      "source": [
        "---\n",
        "\n",
        "# **Data Analysis & Visualization**"
      ]
    },
    {
      "cell_type": "code",
      "execution_count": 128,
      "metadata": {},
      "outputs": [
        {
          "data": {
            "text/html": [
              "<div>\n",
              "<style scoped>\n",
              "    .dataframe tbody tr th:only-of-type {\n",
              "        vertical-align: middle;\n",
              "    }\n",
              "\n",
              "    .dataframe tbody tr th {\n",
              "        vertical-align: top;\n",
              "    }\n",
              "\n",
              "    .dataframe thead th {\n",
              "        text-align: right;\n",
              "    }\n",
              "</style>\n",
              "<table border=\"1\" class=\"dataframe\">\n",
              "  <thead>\n",
              "    <tr style=\"text-align: right;\">\n",
              "      <th></th>\n",
              "      <th>Age</th>\n",
              "      <th>DailyRate</th>\n",
              "      <th>Department</th>\n",
              "      <th>EducationField</th>\n",
              "      <th>Gender</th>\n",
              "      <th>MaritalStatus</th>\n",
              "      <th>MonthlyRate</th>\n",
              "      <th>OverTime</th>\n",
              "      <th>Bonus</th>\n",
              "    </tr>\n",
              "  </thead>\n",
              "  <tbody>\n",
              "    <tr>\n",
              "      <th>0</th>\n",
              "      <td>41</td>\n",
              "      <td>1102</td>\n",
              "      <td>Sales</td>\n",
              "      <td>Life Sciences</td>\n",
              "      <td>Female</td>\n",
              "      <td>Single</td>\n",
              "      <td>19479</td>\n",
              "      <td>Yes</td>\n",
              "      <td>1947.9</td>\n",
              "    </tr>\n",
              "    <tr>\n",
              "      <th>1</th>\n",
              "      <td>49</td>\n",
              "      <td>279</td>\n",
              "      <td>Research &amp; Development</td>\n",
              "      <td>Life Sciences</td>\n",
              "      <td>Male</td>\n",
              "      <td>Married</td>\n",
              "      <td>24907</td>\n",
              "      <td>No</td>\n",
              "      <td>0.0</td>\n",
              "    </tr>\n",
              "    <tr>\n",
              "      <th>2</th>\n",
              "      <td>37</td>\n",
              "      <td>1373</td>\n",
              "      <td>Research &amp; Development</td>\n",
              "      <td>Other</td>\n",
              "      <td>Male</td>\n",
              "      <td>Single</td>\n",
              "      <td>2396</td>\n",
              "      <td>Yes</td>\n",
              "      <td>0.0</td>\n",
              "    </tr>\n",
              "    <tr>\n",
              "      <th>3</th>\n",
              "      <td>33</td>\n",
              "      <td>1392</td>\n",
              "      <td>Research &amp; Development</td>\n",
              "      <td>Life Sciences</td>\n",
              "      <td>Female</td>\n",
              "      <td>Married</td>\n",
              "      <td>23159</td>\n",
              "      <td>Yes</td>\n",
              "      <td>0.0</td>\n",
              "    </tr>\n",
              "    <tr>\n",
              "      <th>4</th>\n",
              "      <td>27</td>\n",
              "      <td>591</td>\n",
              "      <td>Research &amp; Development</td>\n",
              "      <td>Medical</td>\n",
              "      <td>Male</td>\n",
              "      <td>Married</td>\n",
              "      <td>16632</td>\n",
              "      <td>No</td>\n",
              "      <td>0.0</td>\n",
              "    </tr>\n",
              "    <tr>\n",
              "      <th>...</th>\n",
              "      <td>...</td>\n",
              "      <td>...</td>\n",
              "      <td>...</td>\n",
              "      <td>...</td>\n",
              "      <td>...</td>\n",
              "      <td>...</td>\n",
              "      <td>...</td>\n",
              "      <td>...</td>\n",
              "      <td>...</td>\n",
              "    </tr>\n",
              "    <tr>\n",
              "      <th>1465</th>\n",
              "      <td>36</td>\n",
              "      <td>884</td>\n",
              "      <td>Research &amp; Development</td>\n",
              "      <td>Medical</td>\n",
              "      <td>Male</td>\n",
              "      <td>Married</td>\n",
              "      <td>12290</td>\n",
              "      <td>No</td>\n",
              "      <td>0.0</td>\n",
              "    </tr>\n",
              "    <tr>\n",
              "      <th>1466</th>\n",
              "      <td>39</td>\n",
              "      <td>613</td>\n",
              "      <td>Research &amp; Development</td>\n",
              "      <td>Medical</td>\n",
              "      <td>Male</td>\n",
              "      <td>Married</td>\n",
              "      <td>21457</td>\n",
              "      <td>No</td>\n",
              "      <td>0.0</td>\n",
              "    </tr>\n",
              "    <tr>\n",
              "      <th>1467</th>\n",
              "      <td>27</td>\n",
              "      <td>155</td>\n",
              "      <td>Research &amp; Development</td>\n",
              "      <td>Life Sciences</td>\n",
              "      <td>Male</td>\n",
              "      <td>Married</td>\n",
              "      <td>5174</td>\n",
              "      <td>Yes</td>\n",
              "      <td>0.0</td>\n",
              "    </tr>\n",
              "    <tr>\n",
              "      <th>1468</th>\n",
              "      <td>49</td>\n",
              "      <td>1023</td>\n",
              "      <td>Sales</td>\n",
              "      <td>Medical</td>\n",
              "      <td>Male</td>\n",
              "      <td>Married</td>\n",
              "      <td>13243</td>\n",
              "      <td>No</td>\n",
              "      <td>1324.3</td>\n",
              "    </tr>\n",
              "    <tr>\n",
              "      <th>1469</th>\n",
              "      <td>34</td>\n",
              "      <td>628</td>\n",
              "      <td>Research &amp; Development</td>\n",
              "      <td>Medical</td>\n",
              "      <td>Male</td>\n",
              "      <td>Married</td>\n",
              "      <td>10228</td>\n",
              "      <td>No</td>\n",
              "      <td>0.0</td>\n",
              "    </tr>\n",
              "  </tbody>\n",
              "</table>\n",
              "<p>1470 rows × 9 columns</p>\n",
              "</div>"
            ],
            "text/plain": [
              "      Age  DailyRate              Department EducationField  Gender  \\\n",
              "0      41       1102                   Sales  Life Sciences  Female   \n",
              "1      49        279  Research & Development  Life Sciences    Male   \n",
              "2      37       1373  Research & Development          Other    Male   \n",
              "3      33       1392  Research & Development  Life Sciences  Female   \n",
              "4      27        591  Research & Development        Medical    Male   \n",
              "...   ...        ...                     ...            ...     ...   \n",
              "1465   36        884  Research & Development        Medical    Male   \n",
              "1466   39        613  Research & Development        Medical    Male   \n",
              "1467   27        155  Research & Development  Life Sciences    Male   \n",
              "1468   49       1023                   Sales        Medical    Male   \n",
              "1469   34        628  Research & Development        Medical    Male   \n",
              "\n",
              "     MaritalStatus  MonthlyRate OverTime   Bonus  \n",
              "0           Single        19479      Yes  1947.9  \n",
              "1          Married        24907       No     0.0  \n",
              "2           Single         2396      Yes     0.0  \n",
              "3          Married        23159      Yes     0.0  \n",
              "4          Married        16632       No     0.0  \n",
              "...            ...          ...      ...     ...  \n",
              "1465       Married        12290       No     0.0  \n",
              "1466       Married        21457       No     0.0  \n",
              "1467       Married         5174      Yes     0.0  \n",
              "1468       Married        13243       No  1324.3  \n",
              "1469       Married        10228       No     0.0  \n",
              "\n",
              "[1470 rows x 9 columns]"
            ]
          },
          "execution_count": 128,
          "metadata": {},
          "output_type": "execute_result"
        }
      ],
      "source": [
        "# Load CSV and create DataFrame\n",
        "df = pd.read_csv('./sources/employee_data.csv')\n",
        "df"
      ]
    },
    {
      "cell_type": "code",
      "execution_count": 129,
      "metadata": {},
      "outputs": [
        {
          "data": {
            "text/html": [
              "<div>\n",
              "<style scoped>\n",
              "    .dataframe tbody tr th:only-of-type {\n",
              "        vertical-align: middle;\n",
              "    }\n",
              "\n",
              "    .dataframe tbody tr th {\n",
              "        vertical-align: top;\n",
              "    }\n",
              "\n",
              "    .dataframe thead th {\n",
              "        text-align: right;\n",
              "    }\n",
              "</style>\n",
              "<table border=\"1\" class=\"dataframe\">\n",
              "  <thead>\n",
              "    <tr style=\"text-align: right;\">\n",
              "      <th></th>\n",
              "      <th>Age</th>\n",
              "      <th>DailyRate</th>\n",
              "      <th>Department</th>\n",
              "      <th>EducationField</th>\n",
              "      <th>Gender</th>\n",
              "      <th>MaritalStatus</th>\n",
              "      <th>MonthlyRate</th>\n",
              "      <th>OverTime</th>\n",
              "      <th>Bonus</th>\n",
              "      <th>TotalIncome</th>\n",
              "    </tr>\n",
              "  </thead>\n",
              "  <tbody>\n",
              "    <tr>\n",
              "      <th>0</th>\n",
              "      <td>41</td>\n",
              "      <td>1102</td>\n",
              "      <td>Sales</td>\n",
              "      <td>Life Sciences</td>\n",
              "      <td>Female</td>\n",
              "      <td>Single</td>\n",
              "      <td>19479</td>\n",
              "      <td>Yes</td>\n",
              "      <td>1947.9</td>\n",
              "      <td>21426.9</td>\n",
              "    </tr>\n",
              "    <tr>\n",
              "      <th>1</th>\n",
              "      <td>49</td>\n",
              "      <td>279</td>\n",
              "      <td>Research &amp; Development</td>\n",
              "      <td>Life Sciences</td>\n",
              "      <td>Male</td>\n",
              "      <td>Married</td>\n",
              "      <td>24907</td>\n",
              "      <td>No</td>\n",
              "      <td>0.0</td>\n",
              "      <td>24907.0</td>\n",
              "    </tr>\n",
              "    <tr>\n",
              "      <th>2</th>\n",
              "      <td>37</td>\n",
              "      <td>1373</td>\n",
              "      <td>Research &amp; Development</td>\n",
              "      <td>Other</td>\n",
              "      <td>Male</td>\n",
              "      <td>Single</td>\n",
              "      <td>2396</td>\n",
              "      <td>Yes</td>\n",
              "      <td>0.0</td>\n",
              "      <td>2396.0</td>\n",
              "    </tr>\n",
              "    <tr>\n",
              "      <th>3</th>\n",
              "      <td>33</td>\n",
              "      <td>1392</td>\n",
              "      <td>Research &amp; Development</td>\n",
              "      <td>Life Sciences</td>\n",
              "      <td>Female</td>\n",
              "      <td>Married</td>\n",
              "      <td>23159</td>\n",
              "      <td>Yes</td>\n",
              "      <td>0.0</td>\n",
              "      <td>23159.0</td>\n",
              "    </tr>\n",
              "    <tr>\n",
              "      <th>4</th>\n",
              "      <td>27</td>\n",
              "      <td>591</td>\n",
              "      <td>Research &amp; Development</td>\n",
              "      <td>Medical</td>\n",
              "      <td>Male</td>\n",
              "      <td>Married</td>\n",
              "      <td>16632</td>\n",
              "      <td>No</td>\n",
              "      <td>0.0</td>\n",
              "      <td>16632.0</td>\n",
              "    </tr>\n",
              "    <tr>\n",
              "      <th>...</th>\n",
              "      <td>...</td>\n",
              "      <td>...</td>\n",
              "      <td>...</td>\n",
              "      <td>...</td>\n",
              "      <td>...</td>\n",
              "      <td>...</td>\n",
              "      <td>...</td>\n",
              "      <td>...</td>\n",
              "      <td>...</td>\n",
              "      <td>...</td>\n",
              "    </tr>\n",
              "    <tr>\n",
              "      <th>1465</th>\n",
              "      <td>36</td>\n",
              "      <td>884</td>\n",
              "      <td>Research &amp; Development</td>\n",
              "      <td>Medical</td>\n",
              "      <td>Male</td>\n",
              "      <td>Married</td>\n",
              "      <td>12290</td>\n",
              "      <td>No</td>\n",
              "      <td>0.0</td>\n",
              "      <td>12290.0</td>\n",
              "    </tr>\n",
              "    <tr>\n",
              "      <th>1466</th>\n",
              "      <td>39</td>\n",
              "      <td>613</td>\n",
              "      <td>Research &amp; Development</td>\n",
              "      <td>Medical</td>\n",
              "      <td>Male</td>\n",
              "      <td>Married</td>\n",
              "      <td>21457</td>\n",
              "      <td>No</td>\n",
              "      <td>0.0</td>\n",
              "      <td>21457.0</td>\n",
              "    </tr>\n",
              "    <tr>\n",
              "      <th>1467</th>\n",
              "      <td>27</td>\n",
              "      <td>155</td>\n",
              "      <td>Research &amp; Development</td>\n",
              "      <td>Life Sciences</td>\n",
              "      <td>Male</td>\n",
              "      <td>Married</td>\n",
              "      <td>5174</td>\n",
              "      <td>Yes</td>\n",
              "      <td>0.0</td>\n",
              "      <td>5174.0</td>\n",
              "    </tr>\n",
              "    <tr>\n",
              "      <th>1468</th>\n",
              "      <td>49</td>\n",
              "      <td>1023</td>\n",
              "      <td>Sales</td>\n",
              "      <td>Medical</td>\n",
              "      <td>Male</td>\n",
              "      <td>Married</td>\n",
              "      <td>13243</td>\n",
              "      <td>No</td>\n",
              "      <td>1324.3</td>\n",
              "      <td>14567.3</td>\n",
              "    </tr>\n",
              "    <tr>\n",
              "      <th>1469</th>\n",
              "      <td>34</td>\n",
              "      <td>628</td>\n",
              "      <td>Research &amp; Development</td>\n",
              "      <td>Medical</td>\n",
              "      <td>Male</td>\n",
              "      <td>Married</td>\n",
              "      <td>10228</td>\n",
              "      <td>No</td>\n",
              "      <td>0.0</td>\n",
              "      <td>10228.0</td>\n",
              "    </tr>\n",
              "  </tbody>\n",
              "</table>\n",
              "<p>1470 rows × 10 columns</p>\n",
              "</div>"
            ],
            "text/plain": [
              "      Age  DailyRate              Department EducationField  Gender  \\\n",
              "0      41       1102                   Sales  Life Sciences  Female   \n",
              "1      49        279  Research & Development  Life Sciences    Male   \n",
              "2      37       1373  Research & Development          Other    Male   \n",
              "3      33       1392  Research & Development  Life Sciences  Female   \n",
              "4      27        591  Research & Development        Medical    Male   \n",
              "...   ...        ...                     ...            ...     ...   \n",
              "1465   36        884  Research & Development        Medical    Male   \n",
              "1466   39        613  Research & Development        Medical    Male   \n",
              "1467   27        155  Research & Development  Life Sciences    Male   \n",
              "1468   49       1023                   Sales        Medical    Male   \n",
              "1469   34        628  Research & Development        Medical    Male   \n",
              "\n",
              "     MaritalStatus  MonthlyRate OverTime   Bonus  TotalIncome  \n",
              "0           Single        19479      Yes  1947.9      21426.9  \n",
              "1          Married        24907       No     0.0      24907.0  \n",
              "2           Single         2396      Yes     0.0       2396.0  \n",
              "3          Married        23159      Yes     0.0      23159.0  \n",
              "4          Married        16632       No     0.0      16632.0  \n",
              "...            ...          ...      ...     ...          ...  \n",
              "1465       Married        12290       No     0.0      12290.0  \n",
              "1466       Married        21457       No     0.0      21457.0  \n",
              "1467       Married         5174      Yes     0.0       5174.0  \n",
              "1468       Married        13243       No  1324.3      14567.3  \n",
              "1469       Married        10228       No     0.0      10228.0  \n",
              "\n",
              "[1470 rows x 10 columns]"
            ]
          },
          "execution_count": 129,
          "metadata": {},
          "output_type": "execute_result"
        }
      ],
      "source": [
        "# Create Total Inccome (MonthlyRate + Bonus)\n",
        "df['TotalIncome'] = df['MonthlyRate'] + df['Bonus']\n",
        "df"
      ]
    },
    {
      "cell_type": "markdown",
      "metadata": {},
      "source": [
        "---\n",
        "\n",
        "## Determine if the total income for males and females are unequal ?"
      ]
    },
    {
      "cell_type": "code",
      "execution_count": 130,
      "metadata": {},
      "outputs": [
        {
          "data": {
            "text/plain": [
              "array(['Female', 'Male'], dtype=object)"
            ]
          },
          "execution_count": 130,
          "metadata": {},
          "output_type": "execute_result"
        }
      ],
      "source": [
        "df['Gender'].unique()"
      ]
    },
    {
      "cell_type": "code",
      "execution_count": 131,
      "metadata": {},
      "outputs": [
        {
          "data": {
            "text/plain": [
              "<Figure size 600x500 with 0 Axes>"
            ]
          },
          "metadata": {},
          "output_type": "display_data"
        },
        {
          "data": {
            "image/png": "[encoded data removed]",
            "text/plain": [
              "<Figure size 640x480 with 1 Axes>"
            ]
          },
          "metadata": {},
          "output_type": "display_data"
        }
      ],
      "source": [
        "# Boxplot for salary distribution by gender\n",
        "plt.figure(figsize=(6, 5))\n",
        "df.boxplot(column='TotalIncome', by='Gender', grid=True)\n",
        "plt.title(\"Income Distribution by Gender\")\n",
        "plt.xlabel(\"Gender\")\n",
        "plt.ylabel(\"Total Income\")\n",
        "plt.suptitle(\"\")\n",
        "plt.show()"
      ]
    },
    {
      "cell_type": "code",
      "execution_count": 132,
      "metadata": {
        "id": "SUghYHDpJAHm"
      },
      "outputs": [
        {
          "data": {
            "text/plain": [
              "Gender\n",
              "Female    15130.568707\n",
              "Male      14500.830385\n",
              "Name: TotalIncome, dtype: float64"
            ]
          },
          "execution_count": 132,
          "metadata": {},
          "output_type": "execute_result"
        }
      ],
      "source": [
        "avg_income_by_gender = df.groupby('Gender')['TotalIncome'].mean()\n",
        "avg_income_by_gender"
      ]
    },
    {
      "cell_type": "code",
      "execution_count": 133,
      "metadata": {},
      "outputs": [
        {
          "data": {
            "image/png": "[encoded data removed]",
            "text/plain": [
              "<Figure size 600x500 with 1 Axes>"
            ]
          },
          "metadata": {},
          "output_type": "display_data"
        }
      ],
      "source": [
        "# Plot bar chart\n",
        "plt.figure(figsize=(6, 5))\n",
        "plt.bar(avg_income_by_gender.index, avg_income_by_gender.values, color=['pink', 'skyblue'])\n",
        "plt.title(\"Average Monthly Income by Gender\")\n",
        "plt.xlabel(\"Gender\")\n",
        "plt.ylabel(\"Average Monthly Income\")\n",
        "plt.grid(axis='y')\n",
        "\n",
        "# Add values on bars\n",
        "for i, v in enumerate(avg_income_by_gender.values):\n",
        "    plt.text(i, v + 100, str(round(v, 2)), ha='center', fontsize=12)\n",
        "\n",
        "plt.show()"
      ]
    },
    {
      "cell_type": "markdown",
      "metadata": {},
      "source": [
        "**Determine if the monthly rate for males and females are unequal ?**\n",
        "\n",
        "**DIAGNOS** :  Since the box plot shows that the total income distribution of both **male** and **female** employees is similarly grouped, I decided to compare the data using the **average total income**. The bar chart reveals that, on average, **female employees** earn **$15,130.57**, while **male employees** earn **$14,500.83**, making the **female bar** slightly higher than the **male bar**. This suggests that, overall, **female employees** tend to have a higher total income than their **male counterparts**. ✔️"
      ]
    },
    {
      "cell_type": "markdown",
      "metadata": {},
      "source": [
        "---\n",
        "\n",
        "## Determine if the state secretly increases the monthly rates of married individuals compared to those who are single ?"
      ]
    },
    {
      "cell_type": "code",
      "execution_count": 134,
      "metadata": {},
      "outputs": [
        {
          "data": {
            "text/plain": [
              "array(['Single', 'Married', 'Divorced'], dtype=object)"
            ]
          },
          "execution_count": 134,
          "metadata": {},
          "output_type": "execute_result"
        }
      ],
      "source": [
        "df['MaritalStatus'].unique()"
      ]
    },
    {
      "cell_type": "code",
      "execution_count": 135,
      "metadata": {},
      "outputs": [
        {
          "data": {
            "text/plain": [
              "<Figure size 600x500 with 0 Axes>"
            ]
          },
          "metadata": {},
          "output_type": "display_data"
        },
        {
          "data": {
            "image/png": "[encoded data removed]",
            "text/plain": [
              "<Figure size 640x480 with 1 Axes>"
            ]
          },
          "metadata": {},
          "output_type": "display_data"
        }
      ],
      "source": [
        "# Boxplot for salary distribution by Marital Status\n",
        "plt.figure(figsize=(6, 5))\n",
        "df.boxplot(column='TotalIncome', by='MaritalStatus', grid=True)\n",
        "plt.title(\"Income Distribution by Marital Status\")\n",
        "plt.xlabel(\"Marital Status\")\n",
        "plt.ylabel(\"Total Income\")\n",
        "plt.suptitle(\"\")\n",
        "plt.show()"
      ]
    },
    {
      "cell_type": "code",
      "execution_count": 136,
      "metadata": {},
      "outputs": [
        {
          "data": {
            "text/plain": [
              "MaritalStatus\n",
              "Divorced    14689.092355\n",
              "Married     14483.687964\n",
              "Single      15182.237447\n",
              "Name: TotalIncome, dtype: float64"
            ]
          },
          "execution_count": 136,
          "metadata": {},
          "output_type": "execute_result"
        }
      ],
      "source": [
        "avg_income_by_status = df.groupby('MaritalStatus')['TotalIncome'].mean()\n",
        "avg_income_by_status"
      ]
    },
    {
      "cell_type": "code",
      "execution_count": 137,
      "metadata": {},
      "outputs": [
        {
          "data": {
            "image/png": "[encoded data removed]",
            "text/plain": [
              "<Figure size 600x500 with 1 Axes>"
            ]
          },
          "metadata": {},
          "output_type": "display_data"
        }
      ],
      "source": [
        "# Plot bar chart\n",
        "plt.figure(figsize=(6, 5))\n",
        "plt.bar(avg_income_by_status.index, avg_income_by_status.values, color=['#2A004E', '#E73879', '#4DA1A9'])\n",
        "plt.title(\"Average Monthly Income by Marital Status\")\n",
        "plt.xlabel(\"Marital Status\")\n",
        "plt.ylabel(\"Average Monthly Income\")\n",
        "plt.grid(axis='y')\n",
        "\n",
        "# Add values on bars\n",
        "for i, v in enumerate(avg_income_by_status.values):\n",
        "    plt.text(i, v + 100, str(round(v, 2)), ha='center', fontsize=12)\n",
        "\n",
        "plt.show()"
      ]
    },
    {
      "cell_type": "markdown",
      "metadata": {},
      "source": [
        "**Determine if the state secretly increases the monthly rates of married individuals compared to those who are single ?**\n",
        "\n",
        "**DIAGNOS** : Since the box plot shows that the total income distribution of **single** and **married** employees is similarly grouped, and if divorced individuals are excluded from the single category, I decided to compare the data using the **average total income**. The bar chart reveals that, on average, **single employees** earn **$15,182.24**, divorced employees earn **$14,689.09**, and **married employees** earn **$14,483.69**, making the **single group** slightly higher than the others. This suggests that there is no clear evidence that the state is secretly increasing the monthly wages of **married individuals** compared to those who are **single**. 🤔"
      ]
    },
    {
      "cell_type": "markdown",
      "metadata": {},
      "source": [
        "---\n",
        "\n",
        "## How does the salary vary among graduates from different fields of study?"
      ]
    },
    {
      "cell_type": "code",
      "execution_count": 138,
      "metadata": {},
      "outputs": [
        {
          "data": {
            "text/plain": [
              "array(['Life Sciences', 'Other', 'Medical', 'Marketing',\n",
              "       'Technical Degree', 'Human Resources'], dtype=object)"
            ]
          },
          "execution_count": 138,
          "metadata": {},
          "output_type": "execute_result"
        }
      ],
      "source": [
        "df['EducationField'].unique()"
      ]
    },
    {
      "cell_type": "code",
      "execution_count": 139,
      "metadata": {},
      "outputs": [
        {
          "data": {
            "text/plain": [
              "<Figure size 1200x500 with 0 Axes>"
            ]
          },
          "metadata": {},
          "output_type": "display_data"
        },
        {
          "data": {
            "image/png": "[encoded data removed]",
            "text/plain": [
              "<Figure size 640x480 with 1 Axes>"
            ]
          },
          "metadata": {},
          "output_type": "display_data"
        }
      ],
      "source": [
        "# Boxplot for salary distribution by education field\n",
        "plt.figure(figsize=(12, 5))\n",
        "df.boxplot(column='TotalIncome', by='EducationField', grid=True, rot=45)\n",
        "plt.title(\"Income Distribution by Education Field\")\n",
        "plt.xlabel(\"Education Field\")\n",
        "plt.ylabel(\"Total Income\")\n",
        "plt.suptitle(\"\")\n",
        "plt.show()"
      ]
    },
    {
      "cell_type": "code",
      "execution_count": 140,
      "metadata": {},
      "outputs": [
        {
          "data": {
            "text/plain": [
              "EducationField\n",
              "Human Resources     25811.0\n",
              "Life Sciences       28824.4\n",
              "Marketing           29654.9\n",
              "Medical             29696.7\n",
              "Other               26537.0\n",
              "Technical Degree    28547.2\n",
              "Name: TotalIncome, dtype: float64"
            ]
          },
          "execution_count": 140,
          "metadata": {},
          "output_type": "execute_result"
        }
      ],
      "source": [
        "max_income_by_EducateField = df.groupby('EducationField')['TotalIncome'].max()\n",
        "max_income_by_EducateField"
      ]
    },
    {
      "cell_type": "code",
      "execution_count": 141,
      "metadata": {},
      "outputs": [
        {
          "data": {
            "text/plain": [
              "EducationField\n",
              "Human Resources     2243.0\n",
              "Life Sciences       2125.0\n",
              "Marketing           2350.7\n",
              "Medical             2094.0\n",
              "Other               2112.0\n",
              "Technical Degree    2125.0\n",
              "Name: TotalIncome, dtype: float64"
            ]
          },
          "execution_count": 141,
          "metadata": {},
          "output_type": "execute_result"
        }
      ],
      "source": [
        "min_income_by_EducateField = df.groupby('EducationField')['TotalIncome'].min()\n",
        "min_income_by_EducateField"
      ]
    },
    {
      "cell_type": "code",
      "execution_count": 142,
      "metadata": {},
      "outputs": [
        {
          "data": {
            "text/plain": [
              "EducationField\n",
              "Human Resources     14810.740741\n",
              "Life Sciences       14889.631683\n",
              "Marketing           15484.637736\n",
              "Medical             14581.010991\n",
              "Other               13545.251220\n",
              "Technical Degree    14584.415909\n",
              "Name: TotalIncome, dtype: float64"
            ]
          },
          "execution_count": 142,
          "metadata": {},
          "output_type": "execute_result"
        }
      ],
      "source": [
        "avg_income_by_EducateField = df.groupby('EducationField')['TotalIncome'].mean()\n",
        "avg_income_by_EducateField"
      ]
    },
    {
      "cell_type": "markdown",
      "metadata": {},
      "source": [
        "**How does the salary vary among graduates from different fields of study?**\n",
        "\n",
        "**DIAGNOS** : The box plot indicates that when comparing the **highest total incomes**, the **Marketing** and **Medical** fields have similar earnings, both ranking at the top. When looking at the **lowest total incomes**, all fields appear to have similar distributions. However, when comparing **average incomes**, most fields show very similar values, except for the **Other** category, which has a noticeably lower average than the rest. 💼\n",
        "\n"
      ]
    },
    {
      "cell_type": "markdown",
      "metadata": {
        "id": "M51Bo6B6M0XU"
      },
      "source": [
        "เนื่องจากโคบายาชิซังจะเป็นคนตรวจโค้ดของน้องๆ\n",
        "\n",
        "ขอให้น้องๆแสดงข้อมูลอย่างเข้าใจง่ายและแม่นยำ ไม่ฉะนั้นโคบายาชิซังจะทำการไล่น้องๆออกจากบริษัทนะครับ\n",
        "\n",
        "<div>\n",
        "<img src=\"https://i.redd.it/gwmyhe5g0av71.gif\" width=\"500\"/>\n",
        "</div>"
      ]
    }
  ],
  "metadata": {
    "colab": {
      "provenance": [],
      "toc_visible": true
    },
    "kernelspec": {
      "display_name": "Python 3.12.4 64-bit",
      "language": "python",
      "name": "python3"
    },
    "language_info": {
      "codemirror_mode": {
        "name": "ipython",
        "version": 3
      },
      "file_extension": ".py",
      "mimetype": "text/x-python",
      "name": "python",
      "nbconvert_exporter": "python",
      "pygments_lexer": "ipython3",
      "version": "3.13.1"
    },
    "vscode": {
      "interpreter": {
        "hash": "aee8b7b246df8f9039afb4144a1f6fd8d2ca17a180786b69acc140d282b71a49"
      }
    }
  },
  "nbformat": 4,
  "nbformat_minor": 0
}
